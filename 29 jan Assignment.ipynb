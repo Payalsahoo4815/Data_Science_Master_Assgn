{
 "cells": [
  {
   "cell_type": "raw",
   "id": "ce0d4f82-d551-4af7-9a91-ef9e1d4f57d4",
   "metadata": {},
   "source": [
    "Q1. Who developed python programming language ?\n",
    "\n",
    "Ans :- Python was created by Guido van Rossum, and first released on February 20, 1991. Python as a large snake, the name of the Python programming language comes from an old BBC television comedy sketch series called Monty Python's Flying Circus."
   ]
  },
  {
   "cell_type": "raw",
   "id": "8a5b5d33-75d4-4ee4-b858-e50ada4c5e9f",
   "metadata": {},
   "source": [
    "Q2.which type of programming does Python support ?\n",
    "\n",
    "Ans :- Python is a general-purpose programming language that supports multiple programming paradigms, including: \n",
    "\n",
    "Object-oriented: Revolves around classes and objects\n",
    "\n",
    "Procedural: Focuses on functions and procedures\n",
    "\n",
    "Functional: Python supports functional programming, but also contains features of other programming models\n",
    "\n",
    "Python is also: interpreted, interactive, high-level, and dynamic. \n",
    "\n",
    "Python is often used for: developing websites and software, task automation, data analysis, and data visualization. \n",
    "\n",
    "Python is relatively easy to learn and has been adopted by many non-programmers, such as accountants and scientists. \n"
   ]
  },
  {
   "cell_type": "raw",
   "id": "88f185ef-3607-4aba-9524-bfbd1886688b",
   "metadata": {},
   "source": [
    "Q3.Is python case sensitive when dealing with identifiers ?\n",
    "\n",
    "Ans :- Yes, Python is case-sensitive when dealing with identifiers. This means that Python distinguishes between uppercase and lowercase letters, and treats them as different. For example, the variables \"my_variable\", \"My_Variable\", and \"MY_VARIABLE\" are all treated as different identifiers in Python. \n"
   ]
  },
  {
   "cell_type": "raw",
   "id": "0e6a4ec3-6926-4430-b766-984364cff458",
   "metadata": {},
   "source": [
    "Q4.what is the correct extension of the Python file ?\n",
    "\n",
    "Ans :- The correct extension for a Python file is .py"
   ]
  },
  {
   "cell_type": "raw",
   "id": "d6362ed0-431b-4211-b192-b50c9787f3a2",
   "metadata": {},
   "source": [
    "Q5. Is python code compiled or interpreted?\n",
    "\n",
    "Ans:-Python is both compiled and interpreted, but it's commonly referred to as an interpreted language"
   ]
  },
  {
   "cell_type": "raw",
   "id": "624e2c74-a334-4670-9f03-53655c3dc39e",
   "metadata": {},
   "source": [
    "Q6.Name a few block of code used to define in Python language ?\n",
    "\n",
    "Ans :-A Python program is constructed from code blocks. A block is a piece of Python program text that is executed as a unit. The following are blocks: a module, a function body, and a class definition."
   ]
  },
  {
   "cell_type": "raw",
   "id": "70fae955-5979-4376-ae8f-6530f92ccea9",
   "metadata": {},
   "source": [
    "Q7.State the character used to give single line comment in Python ?\n",
    "\n",
    "Ans:- In Python, we use the hash symbol # to write a single-line comment."
   ]
  },
  {
   "cell_type": "raw",
   "id": "de7f48a5-3eef-4f09-89d0-e122de1bf6c0",
   "metadata": {},
   "source": [
    "Q8.Mention functions which can help us to find the version of python that we are currently working on ?\n",
    "\n",
    "Ans:- To find the version of Python you are currently working with, you can use the sys.version function within your Python code; this will return a string containing the full version information of the Python interpreter running your script."
   ]
  },
  {
   "cell_type": "raw",
   "id": "bf26ca18-8a88-4286-b31e-7809aa8003c1",
   "metadata": {},
   "source": [
    "Q9.Python support the creation of anonymous function at runtime using a constructor called __________ ?\n",
    "\n",
    "Ans :- In Python, the lambda keyword is used to create anonymous functions at runtime"
   ]
  },
  {
   "cell_type": "raw",
   "id": "1711ba86-e757-40f0-a959-9f3fa948bcac",
   "metadata": {},
   "source": [
    "Q10. what does PIP stand for python ?\n",
    "\n",
    "Ans:- Pip stands for \"pip installs packages"
   ]
  },
  {
   "cell_type": "raw",
   "id": "847b4889-1344-4f32-883c-a4cd06923cf0",
   "metadata": {},
   "source": [
    "Q11. Mention a few built-in function in Python ?\n",
    "\n",
    "Ans :- Here are some built-in functions in Python:\n",
    "abs(): Returns the absolute value of a number \n",
    "all(): Returns true if all elements in an iterable are true \n",
    "any(): Checks if any element in an iterable is true \n",
    "ascii(): Returns a string containing the printable representation \n",
    "bin(): Converts an integer to a binary string \n",
    "bool(): Converts a given value to Boolean \n",
    "bytearray(): Returns an array of a given byte size \n",
    "dict(): Returns a dictionary (Array) \n",
    "dir(): Returns a list of the specified object's properties and methods \n",
    "divmod(): Returns the quotient and the remainder when argument1 is divided by argument2 \n",
    "enumerate(): Takes a collection and returns it as an enumerate object \n",
    "max(): Returns the largest of two or more arguments or the largest item in an iterable \n",
    "min(): Returns the smallest of two or more arguments or the smallest item in an iterable \n",
    "pow(): Returns x to the power of y, optionally with a modulus z \n",
    "print(): Prints the specified message to the screen or another standard output device \n",
    "split(): Breaks up the string into a list of substrings, based on the specified separator"
   ]
  },
  {
   "cell_type": "raw",
   "id": "9f73f9c3-8e46-4400-a525-df68f8a77d67",
   "metadata": {},
   "source": [
    "Q12.What is the maximum possible length of an identifier in Python ?\n",
    "Ans :- The maximum possible length of an identifier in Python is 79 characters."
   ]
  },
  {
   "cell_type": "raw",
   "id": "70162f46-9ad6-4496-b56f-a4c9f6fd716a",
   "metadata": {},
   "source": [
    "Q13. what are the benefits of using python ?\n",
    "\n",
    "Ans:-Python has many benefits, including: \n",
    "Open source :\n",
    "    Python is open source, meaning it's developed under an OSI-approved license and can be used for commercial purposes. \n",
    "Large library support :\n",
    "    Python has a large number of third-party libraries, which are pre-written code that can be included in projects. \n",
    "\n",
    "Data science :\n",
    "    Python is used for data science and artificial intelligence (AI) because it's simple, stable, and consistent. It also has libraries and frameworks that speed up development. \n",
    "\n",
    "Community support :\n",
    "    Python has a large and active community that provides resources, tutorials, and documentation. \n",
    "\n",
    "Integration capabilities :\n",
    "    Python can integrate with other languages and technologies, such as C/C++, Java, databases, and web services. \n",
    "\n",
    "Portability :\n",
    "    Python programs can run across various operating systems without modifying the code. \n",
    "\n",
    "Dynamic typing :\n",
    "    Python is dynamically typed, meaning variables don't need to be explicitly declared with their data types. This results in more flexible and concise code. \n",
    "\n",
    "Other benefits of Python include: Easy to learn and use, Extensible, Secure programming language, Improved productivity, and Interpreted language. "
   ]
  },
  {
   "cell_type": "raw",
   "id": "1be7f8cb-099b-4e13-bb1d-ac57377aa966",
   "metadata": {},
   "source": [
    "Q14.How is memory managed in Python ?\n",
    "\n",
    "Ans:- Python manages memory through a private heap, a memory manager, and a variety of methods: \n",
    "\n",
    "Private heap: \n",
    "A portion of memory that is exclusive to the Python process and stores all Python objects and data structures. The size of the private heap can grow and shrink as needed. \n",
    "\n",
    "Memory manager: Manages the private heap and handles dynamic storage management aspects like sharing, segmentation, preallocation, and caching. \n",
    "\n",
    "Garbage collector: Automatically detects and frees up memory that the system isn't using. \n",
    "\n",
    "Reference counting: Tracks how frequently a program uses an object. \n",
    "\n",
    "Generators and iterators: Create data streams that load one at a time. \n",
    "\n",
    "GIL: Prevents threads from interfering with each other's reference counts. \n",
    "\n",
    "The Python memory manager delegates some of the work to object-specific allocators, which implement different memory management policies for each object type. For example, integers are managed differently than strings, tuples, or dictionaries. "
   ]
  },
  {
   "cell_type": "raw",
   "id": "47fb7210-05bc-41ff-9464-04728bc5682a",
   "metadata": {},
   "source": [
    "Q15.How to install Python on Windows and set path variable ?\n",
    "\n",
    "Ans :- To install Python on Windows and set the path variable, you can: \n",
    "Select a version of Python\n",
    "Download the Python executable installer\n",
    "Run the installer\n",
    "Add Python to the path variable\n",
    "Verify that Python and PIP were installed\n",
    "\n",
    "To add Python to the path variable, you can: \n",
    "\n",
    "Right-click This PC and select Properties\n",
    "Click Advanced system settings\n",
    "Click Environment Variables\n",
    "Select the Path variable in the System variables section\n",
    "Click Edit\n",
    "Click New and paste the path to the Python executable\n",
    "Select the new path and click Move Up until it's at the top\n",
    "Restart your computer"
   ]
  },
  {
   "cell_type": "raw",
   "id": "21e59cf3-4faf-4a72-ac89-aa647a5f1a56",
   "metadata": {},
   "source": [
    "Q16. Is indentation required in python ?\n",
    "\n",
    "Ans:- Yes, indentation is required in Python."
   ]
  }
 ],
 "metadata": {
  "kernelspec": {
   "display_name": "Python 3 (ipykernel)",
   "language": "python",
   "name": "python3"
  },
  "language_info": {
   "codemirror_mode": {
    "name": "ipython",
    "version": 3
   },
   "file_extension": ".py",
   "mimetype": "text/x-python",
   "name": "python",
   "nbconvert_exporter": "python",
   "pygments_lexer": "ipython3",
   "version": "3.12.7"
  }
 },
 "nbformat": 4,
 "nbformat_minor": 5
}
