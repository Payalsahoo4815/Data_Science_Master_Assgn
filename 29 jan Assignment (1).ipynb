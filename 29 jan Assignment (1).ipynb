{
 "cells": [
  {
   "cell_type": "code",
   "execution_count": null,
   "id": "b11a30af-2ee4-44c0-abd3-21d5f80dedf1",
   "metadata": {},
   "outputs": [],
   "source": [
    "Q1. Who developed python programming language ?\n",
    "\n",
    "Ans :- Python was created by Guido van Rossum, and first released on February 20, 1991. Python as a large snake, the name of the Python programming language comes from an old BBC television comedy sketch series called Monty Python's Flying Circus."
   ]
  },
  {
   "cell_type": "code",
   "execution_count": null,
   "id": "f260d504-e0e4-40d1-9da6-8b55749fda83",
   "metadata": {},
   "outputs": [],
   "source": [
    "Q2.which type of programming does Python support ?\n",
    "\n",
    "Ans :- Python is a general-purpose programming language that supports multiple programming paradigms, including: \n",
    "\n",
    "Object-oriented: Revolves around classes and objects\n",
    "\n",
    "Procedural: Focuses on functions and procedures\n",
    "\n",
    "Functional: Python supports functional programming, but also contains features of other programming models\n",
    "\n",
    "Python is also: interpreted, interactive, high-level, and dynamic. \n",
    "\n",
    "Python is often used for: developing websites and software, task automation, data analysis, and data visualization. \n",
    "\n",
    "Python is relatively easy to learn and has been adopted by many non-programmers, such as accountants and scientists. \n"
   ]
  },
  {
   "cell_type": "code",
   "execution_count": null,
   "id": "b1abbdbf-6af8-4be6-a605-2311b3f4a315",
   "metadata": {},
   "outputs": [],
   "source": [
    "Q3.Is python case sensitive when dealing with identifiers ?\n",
    "\n",
    "Ans :- Yes, Python is case-sensitive when dealing with identifiers. This means that Python distinguishes between uppercase and lowercase letters, and treats them as different. For example, the variables \"my_variable\", \"My_Variable\", and \"MY_VARIABLE\" are all treated as different identifiers in Python. \n"
   ]
  },
  {
   "cell_type": "code",
   "execution_count": null,
   "id": "d51d67c0-219d-40ec-97d6-4db3e50b7304",
   "metadata": {},
   "outputs": [],
   "source": [
    "Q4.what is the correct extension of the Python file ?\n",
    "\n",
    "Ans :- The correct extension for a Python file is .py"
   ]
  },
  {
   "cell_type": "code",
   "execution_count": null,
   "id": "1acd9e41-213d-4338-ae04-f3d0fb94155e",
   "metadata": {},
   "outputs": [],
   "source": [
    "Q5. Is python code compiled or interpreted?\n",
    "\n",
    "Ans:-Python is both compiled and interpreted, but it's commonly referred to as an interpreted language"
   ]
  },
  {
   "cell_type": "code",
   "execution_count": null,
   "id": "7f7635e5-bcac-44b1-ad7d-c09d4af32501",
   "metadata": {},
   "outputs": [],
   "source": [
    "Q6.Name a few block of code used to define in Python language ?\n",
    "\n",
    "Ans :-A Python program is constructed from code blocks. A block is a piece of Python program text that is executed as a unit. The following are blocks: a module, a function body, and a class definition."
   ]
  },
  {
   "cell_type": "code",
   "execution_count": null,
   "id": "9df954a2-0492-4abb-b926-e067fd87ba33",
   "metadata": {},
   "outputs": [],
   "source": [
    "Q7.State the character used to give single line comment in Python ?\n",
    "\n",
    "Ans:- In Python, we use the hash symbol # to write a single-line comment."
   ]
  },
  {
   "cell_type": "code",
   "execution_count": null,
   "id": "1b518fac-80af-4551-b3bb-a6ccb3037d9c",
   "metadata": {},
   "outputs": [],
   "source": [
    "Q8.Mention functions which can help us to find the version of python that we are currently working on ?\n",
    "\n",
    "Ans:- To find the version of Python you are currently working with, you can use the sys.version function within your Python code; this will return a string containing the full version information of the Python interpreter running your script."
   ]
  },
  {
   "cell_type": "code",
   "execution_count": null,
   "id": "fde55c2d-a381-4983-bd1a-f9b79c82cb14",
   "metadata": {},
   "outputs": [],
   "source": [
    "Q9.Python support the creation of anonymous function at runtime using a constructor called __________ ?\n",
    "\n",
    "Ans :- In Python, the lambda keyword is used to create anonymous functions at runtime"
   ]
  },
  {
   "cell_type": "code",
   "execution_count": null,
   "id": "0673d85d-a54d-41c8-89d8-f423d6067279",
   "metadata": {},
   "outputs": [],
   "source": [
    "Q10. what does PIP stand for python ?\n",
    "\n",
    "Ans:- Pip stands for \"pip installs packages"
   ]
  },
  {
   "cell_type": "code",
   "execution_count": null,
   "id": "16bd2f50-03d0-482a-a39b-8316ec216ff1",
   "metadata": {},
   "outputs": [],
   "source": [
    "Q11. Mention a few built-in function in Python ?\n",
    "\n",
    "Ans :- Here are some built-in functions in Python:\n",
    "abs(): Returns the absolute value of a number \n",
    "all(): Returns true if all elements in an iterable are true \n",
    "any(): Checks if any element in an iterable is true \n",
    "ascii(): Returns a string containing the printable representation \n",
    "bin(): Converts an integer to a binary string \n",
    "bool(): Converts a given value to Boolean \n",
    "bytearray(): Returns an array of a given byte size \n",
    "dict(): Returns a dictionary (Array) \n",
    "dir(): Returns a list of the specified object's properties and methods \n",
    "divmod(): Returns the quotient and the remainder when argument1 is divided by argument2 \n",
    "enumerate(): Takes a collection and returns it as an enumerate object \n",
    "max(): Returns the largest of two or more arguments or the largest item in an iterable \n",
    "min(): Returns the smallest of two or more arguments or the smallest item in an iterable \n",
    "pow(): Returns x to the power of y, optionally with a modulus z \n",
    "print(): Prints the specified message to the screen or another standard output device \n",
    "split(): Breaks up the string into a list of substrings, based on the specified separator"
   ]
  },
  {
   "cell_type": "code",
   "execution_count": null,
   "id": "dc770236-e5f4-4281-aaa1-c15bb135fd41",
   "metadata": {},
   "outputs": [],
   "source": [
    "Q12.What is the maximum possible length of an identifier in Python ?\n",
    "Ans :- The maximum possible length of an identifier in Python is 79 characters."
   ]
  },
  {
   "cell_type": "code",
   "execution_count": null,
   "id": "b2ef17b0-d768-41e1-904c-0f38705af93f",
   "metadata": {},
   "outputs": [],
   "source": [
    "Q13. what are the benefits of using python ?\n",
    "\n",
    "Ans:-Python has many benefits, including: \n",
    "Open source :\n",
    "    Python is open source, meaning it's developed under an OSI-approved license and can be used for commercial purposes. \n",
    "Large library support :\n",
    "    Python has a large number of third-party libraries, which are pre-written code that can be included in projects. \n",
    "\n",
    "Data science :\n",
    "    Python is used for data science and artificial intelligence (AI) because it's simple, stable, and consistent. It also has libraries and frameworks that speed up development. \n",
    "\n",
    "Community support :\n",
    "    Python has a large and active community that provides resources, tutorials, and documentation. \n",
    "\n",
    "Integration capabilities :\n",
    "    Python can integrate with other languages and technologies, such as C/C++, Java, databases, and web services. \n",
    "\n",
    "Portability :\n",
    "    Python programs can run across various operating systems without modifying the code. \n",
    "\n",
    "Dynamic typing :\n",
    "    Python is dynamically typed, meaning variables don't need to be explicitly declared with their data types. This results in more flexible and concise code. \n",
    "\n",
    "Other benefits of Python include: Easy to learn and use, Extensible, Secure programming language, Improved productivity, and Interpreted language. "
   ]
  },
  {
   "cell_type": "code",
   "execution_count": null,
   "id": "c456cf7f-d3ed-4376-8594-b60159729d7f",
   "metadata": {},
   "outputs": [],
   "source": [
    "Q14.How is memory managed in Python ?\n",
    "\n",
    "Ans:- Python manages memory through a private heap, a memory manager, and a variety of methods: \n",
    "\n",
    "Private heap: \n",
    "A portion of memory that is exclusive to the Python process and stores all Python objects and data structures. The size of the private heap can grow and shrink as needed. \n",
    "\n",
    "Memory manager: Manages the private heap and handles dynamic storage management aspects like sharing, segmentation, preallocation, and caching. \n",
    "\n",
    "Garbage collector: Automatically detects and frees up memory that the system isn't using. \n",
    "\n",
    "Reference counting: Tracks how frequently a program uses an object. \n",
    "\n",
    "Generators and iterators: Create data streams that load one at a time. \n",
    "\n",
    "GIL: Prevents threads from interfering with each other's reference counts. \n",
    "\n",
    "The Python memory manager delegates some of the work to object-specific allocators, which implement different memory management policies for each object type. For example, integers are managed differently than strings, tuples, or dictionaries. "
   ]
  },
  {
   "cell_type": "code",
   "execution_count": null,
   "id": "6dc63081-4564-4185-9f7b-4fde5820ad64",
   "metadata": {},
   "outputs": [],
   "source": [
    "Q15.How to install Python on Windows and set path variable ?\n",
    "\n",
    "Ans :- To install Python on Windows and set the path variable, you can: \n",
    "Select a version of Python\n",
    "Download the Python executable installer\n",
    "Run the installer\n",
    "Add Python to the path variable\n",
    "Verify that Python and PIP were installed\n",
    "\n",
    "To add Python to the path variable, you can: \n",
    "\n",
    "Right-click This PC and select Properties\n",
    "Click Advanced system settings\n",
    "Click Environment Variables\n",
    "Select the Path variable in the System variables section\n",
    "Click Edit\n",
    "Click New and paste the path to the Python executable\n",
    "Select the new path and click Move Up until it's at the top\n",
    "Restart your computer"
   ]
  },
  {
   "cell_type": "code",
   "execution_count": null,
   "id": "c9d70b9f-29df-4118-98d6-e6e9940e7eed",
   "metadata": {},
   "outputs": [],
   "source": [
    "Q16. Is indentation required in python ?\n",
    "\n",
    "Ans:- Yes, indentation is required in Python."
   ]
  }
 ],
 "metadata": {
  "kernelspec": {
   "display_name": "Python 3 (ipykernel)",
   "language": "python",
   "name": "python3"
  },
  "language_info": {
   "codemirror_mode": {
    "name": "ipython",
    "version": 3
   },
   "file_extension": ".py",
   "mimetype": "text/x-python",
   "name": "python",
   "nbconvert_exporter": "python",
   "pygments_lexer": "ipython3",
   "version": "3.12.7"
  }
 },
 "nbformat": 4,
 "nbformat_minor": 5
}
